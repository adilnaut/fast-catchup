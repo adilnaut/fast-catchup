{
 "cells": [
  {
   "cell_type": "code",
   "execution_count": 1,
   "id": "a880c6fc",
   "metadata": {},
   "outputs": [
    {
     "name": "stderr",
     "output_type": "stream",
     "text": [
      "C:\\Users\\adiln\\frontend-proj\\.venv\\lib\\site-packages\\tqdm\\auto.py:22: TqdmWarning: IProgress not found. Please update jupyter and ipywidgets. See https://ipywidgets.readthedocs.io/en/stable/user_install.html\n",
      "  from .autonotebook import tqdm as notebook_tqdm\n"
     ]
    }
   ],
   "source": [
    "from app import app, db"
   ]
  },
  {
   "cell_type": "code",
   "execution_count": 2,
   "id": "d6b2c4e0",
   "metadata": {},
   "outputs": [],
   "source": [
    "app.app_context().push()"
   ]
  },
  {
   "cell_type": "code",
   "execution_count": 6,
   "id": "86acbfd5",
   "metadata": {},
   "outputs": [],
   "source": [
    "from app.models import PriorityMessage\n",
    "import numpy as np"
   ]
  },
  {
   "cell_type": "code",
   "execution_count": 4,
   "id": "80b5d1cc",
   "metadata": {},
   "outputs": [],
   "source": [
    "pms = PriorityMessage.query.all()"
   ]
  },
  {
   "cell_type": "code",
   "execution_count": 5,
   "id": "45d7e765",
   "metadata": {},
   "outputs": [
    {
     "data": {
      "text/plain": [
       "[<PriorityMessage 281>,\n",
       " <PriorityMessage 282>,\n",
       " <PriorityMessage 283>,\n",
       " <PriorityMessage 284>,\n",
       " <PriorityMessage 285>,\n",
       " <PriorityMessage 286>,\n",
       " <PriorityMessage 287>,\n",
       " <PriorityMessage 288>,\n",
       " <PriorityMessage 289>,\n",
       " <PriorityMessage 290>,\n",
       " <PriorityMessage 291>,\n",
       " <PriorityMessage 292>,\n",
       " <PriorityMessage 293>,\n",
       " <PriorityMessage 294>,\n",
       " <PriorityMessage 295>,\n",
       " <PriorityMessage 296>,\n",
       " <PriorityMessage 297>,\n",
       " <PriorityMessage 298>,\n",
       " <PriorityMessage 299>,\n",
       " <PriorityMessage 300>,\n",
       " <PriorityMessage 301>,\n",
       " <PriorityMessage 302>,\n",
       " <PriorityMessage 303>,\n",
       " <PriorityMessage 304>,\n",
       " <PriorityMessage 305>]"
      ]
     },
     "execution_count": 5,
     "metadata": {},
     "output_type": "execute_result"
    }
   ],
   "source": [
    "pms"
   ]
  },
  {
   "cell_type": "code",
   "execution_count": 7,
   "id": "4e6685d2",
   "metadata": {},
   "outputs": [],
   "source": [
    "all_vectors = []\n",
    "for pm_i in pms:\n",
    "    emb_vec = pm_i.embedding_vector\n",
    "    emb_vec = np.frombuffer(emb_vec, dtype='<f4')\n",
    "    all_vectors.append(emb_vec)\n",
    "X = np.array(all_vectors)"
   ]
  },
  {
   "cell_type": "code",
   "execution_count": 16,
   "id": "0a2187d7",
   "metadata": {},
   "outputs": [
    {
     "data": {
      "text/plain": [
       "array([[ 2.0000000e+00, -1.1474899e+00, -0.0000000e+00, ...,\n",
       "         9.7472143e-01,  2.0000000e+00, -1.1550981e+00],\n",
       "       [-3.6893488e+19, -1.1995664e+00, -0.0000000e+00, ...,\n",
       "        -1.1301615e+00,  2.0000000e+00, -1.0386598e+00],\n",
       "       [-1.0842022e-19, -1.2407982e+00, -3.6893488e+19, ...,\n",
       "         1.0212306e+00, -1.0842022e-19, -1.2458980e+00],\n",
       "       ...,\n",
       "       [-3.6893488e+19, -1.1387947e+00, -1.0842022e-19, ...,\n",
       "        -9.2308354e-01, -1.0842022e-19, -1.2017853e+00],\n",
       "       [-1.0842022e-19, -1.0470574e+00, -2.0000000e+00, ...,\n",
       "        -1.1331396e+00,  2.0000000e+00, -1.2233728e+00],\n",
       "       [ 0.0000000e+00, -1.1612462e+00, -0.0000000e+00, ...,\n",
       "         9.6089947e-01, -3.6893488e+19, -1.2866682e+00]], dtype=float32)"
      ]
     },
     "execution_count": 16,
     "metadata": {},
     "output_type": "execute_result"
    }
   ],
   "source": [
    "X = np.array(my_list, dtype=numpy.float64)"
   ]
  },
  {
   "cell_type": "code",
   "execution_count": 17,
   "id": "22ceff03",
   "metadata": {},
   "outputs": [
    {
     "name": "stderr",
     "output_type": "stream",
     "text": [
      "C:\\Users\\adiln\\frontend-proj\\.venv\\lib\\site-packages\\scipy\\spatial\\distance.py:619: RuntimeWarning: overflow encountered in multiply\n",
      "  uv = np.average(u * v, weights=w)\n",
      "C:\\Users\\adiln\\frontend-proj\\.venv\\lib\\site-packages\\numpy\\core\\_methods.py:181: RuntimeWarning: invalid value encountered in reduce\n",
      "  ret = umr_sum(arr, axis, dtype, out, keepdims, where=where)\n",
      "C:\\Users\\adiln\\frontend-proj\\.venv\\lib\\site-packages\\scipy\\spatial\\distance.py:620: RuntimeWarning: overflow encountered in square\n",
      "  uu = np.average(np.square(u), weights=w)\n",
      "C:\\Users\\adiln\\frontend-proj\\.venv\\lib\\site-packages\\scipy\\spatial\\distance.py:621: RuntimeWarning: overflow encountered in square\n",
      "  vv = np.average(np.square(v), weights=w)\n"
     ]
    }
   ],
   "source": [
    "from scipy import spatial\n",
    "\n",
    "\n",
    "result = 1 - spatial.distance.cosine(X[0], X[1])"
   ]
  },
  {
   "cell_type": "code",
   "execution_count": 19,
   "id": "d35ef8ce",
   "metadata": {},
   "outputs": [
    {
     "data": {
      "text/plain": [
       "1"
      ]
     },
     "execution_count": 19,
     "metadata": {},
     "output_type": "execute_result"
    }
   ],
   "source": [
    "result"
   ]
  },
  {
   "cell_type": "code",
   "execution_count": null,
   "id": "5c78fdae",
   "metadata": {},
   "outputs": [],
   "source": []
  }
 ],
 "metadata": {
  "kernelspec": {
   "display_name": "Python 3 (ipykernel)",
   "language": "python",
   "name": "python3"
  },
  "language_info": {
   "codemirror_mode": {
    "name": "ipython",
    "version": 3
   },
   "file_extension": ".py",
   "mimetype": "text/x-python",
   "name": "python",
   "nbconvert_exporter": "python",
   "pygments_lexer": "ipython3",
   "version": "3.10.10"
  }
 },
 "nbformat": 4,
 "nbformat_minor": 5
}
