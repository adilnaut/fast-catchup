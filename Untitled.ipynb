{
 "cells": [
  {
   "cell_type": "code",
   "execution_count": 1,
   "id": "2743b3d1",
   "metadata": {},
   "outputs": [
    {
     "name": "stderr",
     "output_type": "stream",
     "text": [
      "C:\\Users\\adiln\\frontend-proj\\.venv\\lib\\site-packages\\tqdm\\auto.py:22: TqdmWarning: IProgress not found. Please update jupyter and ipywidgets. See https://ipywidgets.readthedocs.io/en/stable/user_install.html\n",
      "  from .autonotebook import tqdm as notebook_tqdm\n"
     ]
    }
   ],
   "source": [
    "from app import app, db"
   ]
  },
  {
   "cell_type": "code",
   "execution_count": 2,
   "id": "4342a257",
   "metadata": {},
   "outputs": [],
   "source": [
    "app.app_context().push()"
   ]
  },
  {
   "cell_type": "code",
   "execution_count": 6,
   "id": "f7932aa7",
   "metadata": {},
   "outputs": [],
   "source": [
    "from app.models import PriorityMessage\n",
    "import numpy as np"
   ]
  },
  {
   "cell_type": "code",
   "execution_count": 4,
   "id": "f411aa75",
   "metadata": {},
   "outputs": [],
   "source": [
    "pms = PriorityMessage.query.all()"
   ]
  },
  {
   "cell_type": "code",
   "execution_count": 5,
   "id": "87fe5e73",
   "metadata": {},
   "outputs": [
    {
     "data": {
      "text/plain": [
       "[<PriorityMessage 281>,\n",
       " <PriorityMessage 282>,\n",
       " <PriorityMessage 283>,\n",
       " <PriorityMessage 284>,\n",
       " <PriorityMessage 285>,\n",
       " <PriorityMessage 286>,\n",
       " <PriorityMessage 287>,\n",
       " <PriorityMessage 288>,\n",
       " <PriorityMessage 289>,\n",
       " <PriorityMessage 290>,\n",
       " <PriorityMessage 291>,\n",
       " <PriorityMessage 292>,\n",
       " <PriorityMessage 293>,\n",
       " <PriorityMessage 294>,\n",
       " <PriorityMessage 295>,\n",
       " <PriorityMessage 296>,\n",
       " <PriorityMessage 297>,\n",
       " <PriorityMessage 298>,\n",
       " <PriorityMessage 299>,\n",
       " <PriorityMessage 300>,\n",
       " <PriorityMessage 301>,\n",
       " <PriorityMessage 302>,\n",
       " <PriorityMessage 303>,\n",
       " <PriorityMessage 304>,\n",
       " <PriorityMessage 305>]"
      ]
     },
     "execution_count": 5,
     "metadata": {},
     "output_type": "execute_result"
    }
   ],
   "source": [
    "pms"
   ]
  },
  {
   "cell_type": "code",
   "execution_count": 7,
   "id": "84c0281d",
   "metadata": {},
   "outputs": [],
   "source": [
    "all_vectors = []\n",
    "for pm_i in pms:\n",
    "    emb_vec = pm_i.embedding_vector\n",
    "    emb_vec = np.frombuffer(emb_vec, dtype='<f4')\n",
    "    all_vectors.append(emb_vec)\n",
    "X = np.array(all_vectors)"
   ]
  },
  {
   "cell_type": "code",
   "execution_count": 22,
   "id": "196d9803",
   "metadata": {},
   "outputs": [],
   "source": [
    "X = np.array(X, dtype=np.float64)"
   ]
  },
  {
   "cell_type": "code",
   "execution_count": 23,
   "id": "ef27a706",
   "metadata": {},
   "outputs": [],
   "source": [
    "from scipy import spatial\n",
    "\n",
    "\n",
    "result = 1 - spatial.distance.cosine(X[0], X[1])"
   ]
  },
  {
   "cell_type": "code",
   "execution_count": 24,
   "id": "c9c8da81",
   "metadata": {},
   "outputs": [
    {
     "data": {
      "text/plain": [
       "-0.015651239008730444"
      ]
     },
     "execution_count": 24,
     "metadata": {},
     "output_type": "execute_result"
    }
   ],
   "source": [
    "result"
   ]
  },
  {
   "cell_type": "code",
   "execution_count": null,
   "id": "764eab59",
   "metadata": {},
   "outputs": [],
   "source": []
  }
 ],
 "metadata": {
  "kernelspec": {
   "display_name": "Python 3 (ipykernel)",
   "language": "python",
   "name": "python3"
  },
  "language_info": {
   "codemirror_mode": {
    "name": "ipython",
    "version": 3
   },
   "file_extension": ".py",
   "mimetype": "text/x-python",
   "name": "python",
   "nbconvert_exporter": "python",
   "pygments_lexer": "ipython3",
   "version": "3.10.10"
  }
 },
 "nbformat": 4,
 "nbformat_minor": 5
}
